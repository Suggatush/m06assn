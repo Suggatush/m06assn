{
 "cells": [
  {
   "cell_type": "code",
   "execution_count": null,
   "id": "9a008ebc",
   "metadata": {},
   "outputs": [],
   "source": [
    "from datetime import datetime\n",
    "from dateutil import parser\n",
    "\n",
    "now = str(datetime.now())\n",
    "with open(\"today.txt\",'w') as today:\n",
    "  today.write(now)\n",
    "\n",
    "with open(\"today.txt\") as f:\n",
    "  today_string = f.read()\n",
    "\n",
    "\n",
    "res = parser.parse(today_string, fuzzy=True)\n",
    "print(str(res))"
   ]
  },
  {
   "cell_type": "code",
   "execution_count": null,
   "id": "c969f4ba",
   "metadata": {},
   "outputs": [],
   "source": [
    "import multiprocessing as mp\n",
    "import random\n",
    "from datetime import datetime\n",
    "from time import sleep\n",
    "import sys\n",
    "\n",
    "\n",
    "def time():\n",
    "  sleep(random.random())\n",
    "  now = datetime.now()\n",
    "  current_time = now.strftime(\"%H:%M:%S\")\n",
    "  print(\"Current Time =\", current_time)\n",
    "\n",
    "proc1 = mp.Process(target=time)\n",
    "proc2 = mp.Process(target=time)\n",
    "proc3 = mp.Process(target=time)\n",
    "proc1.start()\n",
    "proc2.start()\n",
    "proc3.start()\n",
    "\n",
    "sys.exit()"
   ]
  }
 ],
 "metadata": {
  "kernelspec": {
   "display_name": "Python 3 (ipykernel)",
   "language": "python",
   "name": "python3"
  },
  "language_info": {
   "codemirror_mode": {
    "name": "ipython",
    "version": 3
   },
   "file_extension": ".py",
   "mimetype": "text/x-python",
   "name": "python",
   "nbconvert_exporter": "python",
   "pygments_lexer": "ipython3",
   "version": "3.11.5"
  }
 },
 "nbformat": 4,
 "nbformat_minor": 5
}
